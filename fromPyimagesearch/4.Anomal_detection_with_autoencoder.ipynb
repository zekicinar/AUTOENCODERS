{
 "cells": [
  {
   "cell_type": "markdown",
   "id": "42367a3c",
   "metadata": {},
   "source": [
    "## Anomaly detection with Keras, TensorFlow"
   ]
  },
  {
   "cell_type": "markdown",
   "id": "f9a7f056",
   "metadata": {},
   "source": [
    "Autoencoder reconstruct images. But of course there will be difference from input images. This difference will be MSE(loss) for our model. The lower the loss, the better a job the autoencoder is doing at reconstructing the image. According to this, we will create a dataset with number '1's and some '3's as anomaly... But we don't tell the model which one is 1 and 3. It will automaticly figure it out as an anomaly detector \n",
    "\n",
    "If you train your models with 1's , reconstraction of 3 will cause a big MSE... And this is the basic idea of this notebook\n",
    "\n",
    "We will use the same autoencoder that we created before. "
   ]
  },
  {
   "cell_type": "code",
   "execution_count": 1,
   "id": "f53fcc08",
   "metadata": {},
   "outputs": [],
   "source": [
    "\n",
    "from tensorflow.keras.optimizers import Adam\n",
    "from tensorflow.keras.datasets import mnist\n",
    "from sklearn.model_selection import train_test_split\n",
    "import matplotlib.pyplot as plt\n",
    "import numpy as np\n",
    "import argparse\n",
    "import random\n",
    "import pickle\n",
    "import cv2"
   ]
  },
  {
   "cell_type": "code",
   "execution_count": 2,
   "id": "bfdae613",
   "metadata": {},
   "outputs": [
    {
     "name": "stdout",
     "output_type": "stream",
     "text": [
      "[INFO] loading MNIST dataset...\n"
     ]
    }
   ],
   "source": [
    "# load the MNIST dataset\n",
    "print(\"[INFO] loading MNIST dataset...\")\n",
    "((trainX, trainY), (testX, testY)) = mnist.load_data()"
   ]
  },
  {
   "cell_type": "code",
   "execution_count": 3,
   "id": "338a1022",
   "metadata": {},
   "outputs": [],
   "source": [
    "validLabel=1\n",
    "anomalyLabel=3\n",
    "contam=0.01\n",
    "seed=42"
   ]
  },
  {
   "cell_type": "code",
   "execution_count": 4,
   "id": "57776c76",
   "metadata": {},
   "outputs": [],
   "source": [
    "unique, counts = np.unique(trainY, return_counts=True)"
   ]
  },
  {
   "cell_type": "code",
   "execution_count": 7,
   "id": "d8014ef8",
   "metadata": {},
   "outputs": [
    {
     "data": {
      "text/plain": [
       "{0: 5923,\n",
       " 1: 6742,\n",
       " 2: 5958,\n",
       " 3: 6131,\n",
       " 4: 5842,\n",
       " 5: 5421,\n",
       " 6: 5918,\n",
       " 7: 6265,\n",
       " 8: 5851,\n",
       " 9: 5949}"
      ]
     },
     "execution_count": 7,
     "metadata": {},
     "output_type": "execute_result"
    }
   ],
   "source": [
    "dict(zip(unique, counts))"
   ]
  },
  {
   "cell_type": "markdown",
   "id": "5120dd08",
   "metadata": {},
   "source": [
    "We have 6742 '1' in TrainX dataset."
   ]
  },
  {
   "cell_type": "code",
   "execution_count": 8,
   "id": "d821e698",
   "metadata": {},
   "outputs": [],
   "source": [
    "#validlabel is 1\n",
    "validIdxs = np.where(trainY == validLabel)[0]\n"
   ]
  },
  {
   "cell_type": "code",
   "execution_count": 9,
   "id": "ba7132f3",
   "metadata": {},
   "outputs": [
    {
     "data": {
      "text/plain": [
       "array([    3,     6,     8, ..., 59979, 59984, 59994], dtype=int64)"
      ]
     },
     "execution_count": 9,
     "metadata": {},
     "output_type": "execute_result"
    }
   ],
   "source": [
    "validIdxs"
   ]
  },
  {
   "cell_type": "code",
   "execution_count": 10,
   "id": "ba4be751",
   "metadata": {},
   "outputs": [
    {
     "data": {
      "text/plain": [
       "6742"
      ]
     },
     "execution_count": 10,
     "metadata": {},
     "output_type": "execute_result"
    }
   ],
   "source": [
    "len(validIdxs)"
   ]
  },
  {
   "cell_type": "code",
   "execution_count": 12,
   "id": "1478efa7",
   "metadata": {},
   "outputs": [],
   "source": [
    "#for 3 indexs\n",
    "anomalyIdxs = np.where(trainY == anomalyLabel)[0]"
   ]
  },
  {
   "cell_type": "code",
   "execution_count": 14,
   "id": "d5d7193f",
   "metadata": {},
   "outputs": [
    {
     "data": {
      "text/plain": [
       "array([    7,    10,    12, ..., 59978, 59980, 59996], dtype=int64)"
      ]
     },
     "execution_count": 14,
     "metadata": {},
     "output_type": "execute_result"
    }
   ],
   "source": [
    "anomalyIdxs"
   ]
  },
  {
   "cell_type": "code",
   "execution_count": 13,
   "id": "1e9fc012",
   "metadata": {},
   "outputs": [
    {
     "data": {
      "text/plain": [
       "6131"
      ]
     },
     "execution_count": 13,
     "metadata": {},
     "output_type": "execute_result"
    }
   ],
   "source": [
    "len(anomalyIdxs)"
   ]
  },
  {
   "cell_type": "code",
   "execution_count": 15,
   "id": "39319c82",
   "metadata": {},
   "outputs": [],
   "source": [
    "# randomly shuffle both sets of indexes\n",
    "random.shuffle(validIdxs)\n",
    "random.shuffle(anomalyIdxs)"
   ]
  },
  {
   "cell_type": "code",
   "execution_count": 16,
   "id": "6527b5d2",
   "metadata": {},
   "outputs": [
    {
     "data": {
      "text/plain": [
       "array([46842, 29214, 50731, ...,  2767, 57957, 43984], dtype=int64)"
      ]
     },
     "execution_count": 16,
     "metadata": {},
     "output_type": "execute_result"
    }
   ],
   "source": [
    "validIdxs"
   ]
  },
  {
   "cell_type": "markdown",
   "id": "6d4075b9",
   "metadata": {},
   "source": [
    "validIdxs and anomalyIdxs were shuffled...\n",
    "\n",
    "We will create dataset with %99 of 1 and %1 of3... We should find how many 3 we need"
   ]
  },
  {
   "cell_type": "code",
   "execution_count": 17,
   "id": "ecbe87df",
   "metadata": {},
   "outputs": [
    {
     "name": "stdout",
     "output_type": "stream",
     "text": [
      "67\n"
     ]
    }
   ],
   "source": [
    "# compute the total number of anomaly data points to select\n",
    "i = int(len(validIdxs) * contam)\n",
    "print(i)"
   ]
  },
  {
   "cell_type": "code",
   "execution_count": 18,
   "id": "19863698",
   "metadata": {},
   "outputs": [],
   "source": [
    "anomalyIdxs = anomalyIdxs[:i]"
   ]
  },
  {
   "cell_type": "code",
   "execution_count": 19,
   "id": "41725b53",
   "metadata": {},
   "outputs": [
    {
     "data": {
      "text/plain": [
       "array([38066, 11155, 11978, 48258, 35765, 17632, 59375, 56515,  2233,\n",
       "       23287, 18742, 40619, 11755, 24350, 31451, 36409, 40375,  2076,\n",
       "       35890, 39127, 58064, 38927,  4022, 26503, 32933, 54249,  1409,\n",
       "       18363, 14761,  6497, 58249, 55432, 47519, 38245, 58678,  1244,\n",
       "       12024,  2228, 44684, 27861, 35929, 21717, 28418, 27835, 52111,\n",
       "       38086, 57199, 47602, 29816,  8946,   874, 46681,  4156, 12667,\n",
       "       45554, 14552, 44146, 28431, 22024, 35491, 28825, 14863, 14635,\n",
       "       40202, 22460,  6719,   433], dtype=int64)"
      ]
     },
     "execution_count": 19,
     "metadata": {},
     "output_type": "execute_result"
    }
   ],
   "source": [
    "anomalyIdxs"
   ]
  },
  {
   "cell_type": "code",
   "execution_count": 20,
   "id": "6c475897",
   "metadata": {},
   "outputs": [
    {
     "data": {
      "text/plain": [
       "67"
      ]
     },
     "execution_count": 20,
     "metadata": {},
     "output_type": "execute_result"
    }
   ],
   "source": [
    "len(anomalyIdxs)"
   ]
  },
  {
   "cell_type": "code",
   "execution_count": 21,
   "id": "7e595ff1",
   "metadata": {},
   "outputs": [],
   "source": [
    "#take the all 1's and 67 of 3's\n",
    "validImages = trainX[validIdxs]\n",
    "anomalyImages = trainX[anomalyIdxs]"
   ]
  },
  {
   "cell_type": "code",
   "execution_count": 22,
   "id": "fc599f6f",
   "metadata": {},
   "outputs": [
    {
     "data": {
      "text/plain": [
       "(6742, 28, 28)"
      ]
     },
     "execution_count": 22,
     "metadata": {},
     "output_type": "execute_result"
    }
   ],
   "source": [
    "validImages.shape"
   ]
  },
  {
   "cell_type": "code",
   "execution_count": 23,
   "id": "f32fb9fb",
   "metadata": {},
   "outputs": [
    {
     "data": {
      "text/plain": [
       "(67, 28, 28)"
      ]
     },
     "execution_count": 23,
     "metadata": {},
     "output_type": "execute_result"
    }
   ],
   "source": [
    "anomalyImages.shape"
   ]
  },
  {
   "cell_type": "code",
   "execution_count": 24,
   "id": "27672b58",
   "metadata": {},
   "outputs": [],
   "source": [
    "# single data matrix and then shuffle the rows\n",
    "images = np.vstack([validImages, anomalyImages])\n",
    "np.random.seed(seed)\n",
    "np.random.shuffle(images)"
   ]
  },
  {
   "cell_type": "code",
   "execution_count": 25,
   "id": "37b6af93",
   "metadata": {},
   "outputs": [
    {
     "data": {
      "text/plain": [
       "(6809, 28, 28)"
      ]
     },
     "execution_count": 25,
     "metadata": {},
     "output_type": "execute_result"
    }
   ],
   "source": [
    "images.shape"
   ]
  },
  {
   "cell_type": "markdown",
   "id": "8398b9c9",
   "metadata": {},
   "source": [
    "We have 6809 images with 6742 1's and 67 3's , but we don't know which one is which... "
   ]
  },
  {
   "cell_type": "code",
   "execution_count": 26,
   "id": "9a2c016d",
   "metadata": {},
   "outputs": [],
   "source": [
    "# add a channel dimension to every image in the dataset for depth\n",
    "# then scalethe pixel intensities to the range [0, 1]\n",
    "images = np.expand_dims(images, axis=-1)\n",
    "images = images.astype(\"float32\") / 255.0"
   ]
  },
  {
   "cell_type": "code",
   "execution_count": 27,
   "id": "85a588d0",
   "metadata": {},
   "outputs": [
    {
     "data": {
      "text/plain": [
       "(6809, 28, 28, 1)"
      ]
     },
     "execution_count": 27,
     "metadata": {},
     "output_type": "execute_result"
    }
   ],
   "source": [
    "images.shape"
   ]
  },
  {
   "cell_type": "code",
   "execution_count": 28,
   "id": "e238e7c3",
   "metadata": {},
   "outputs": [],
   "source": [
    "# construct the training and testing split\n",
    "(trainX, testX) = train_test_split(images, test_size=0.2,random_state=42)"
   ]
  },
  {
   "cell_type": "code",
   "execution_count": 30,
   "id": "d827d394",
   "metadata": {},
   "outputs": [
    {
     "data": {
      "text/plain": [
       "(5447, 28, 28, 1)"
      ]
     },
     "execution_count": 30,
     "metadata": {},
     "output_type": "execute_result"
    }
   ],
   "source": [
    "trainX.shape"
   ]
  },
  {
   "cell_type": "code",
   "execution_count": 32,
   "id": "5df26bce",
   "metadata": {},
   "outputs": [],
   "source": [
    "from tensorflow.keras.layers import BatchNormalization\n",
    "from tensorflow.keras.layers import Conv2D\n",
    "from tensorflow.keras.layers import Conv2DTranspose\n",
    "from tensorflow.keras.layers import LeakyReLU\n",
    "from tensorflow.keras.layers import Activation\n",
    "from tensorflow.keras.layers import Flatten\n",
    "from tensorflow.keras.layers import Dense\n",
    "from tensorflow.keras.layers import Reshape\n",
    "from tensorflow.keras.layers import Input\n",
    "from tensorflow.keras.models import Model\n",
    "from tensorflow.keras import backend as K\n",
    "import numpy as np"
   ]
  },
  {
   "cell_type": "markdown",
   "id": "51d1771e",
   "metadata": {},
   "source": [
    "TIME TO CREATE AUTOENCODER MODEL"
   ]
  },
  {
   "cell_type": "code",
   "execution_count": 33,
   "id": "1e634ac5",
   "metadata": {},
   "outputs": [],
   "source": [
    "# our model will train on mnist dataset. because of that dimensions of input \n",
    "inputShape = (28, 28, 1)\n",
    "\n",
    "#channel is at the end\n",
    "chanDim = -1\n",
    "\n",
    "#our latent representation will be 16 dims\n",
    "latentDim=16\n",
    "inputs = Input(shape=inputShape)\n",
    "x = inputs\n",
    "#first Conv layer 32 filters\n",
    "x = Conv2D(32, (3, 3), strides=2, padding=\"same\")(x)\n",
    "x = LeakyReLU(alpha=0.2)(x)\n",
    "x = BatchNormalization(axis=chanDim)(x)\n",
    "#second Conv layer 64 filters\n",
    "x = Conv2D(64, (3, 3), strides=2, padding=\"same\")(x)\n",
    "x = LeakyReLU(alpha=0.2)(x)\n",
    "x = BatchNormalization(axis=chanDim)(x)\n",
    "\n",
    "# flatten the network and then construct our latent vector\n",
    "volumeSize = K.int_shape(x)\n",
    "x = Flatten()(x)\n",
    "latent = Dense(latentDim)(x)\n",
    "\n",
    "# build the encoder model\n",
    "encoder = Model(inputs, latent, name=\"encoder\")"
   ]
  },
  {
   "cell_type": "code",
   "execution_count": 34,
   "id": "ac49b106",
   "metadata": {},
   "outputs": [],
   "source": [
    "#output of encoder will be our input for decoder\n",
    "latentInputs = Input(shape=(latentDim,))\n",
    "x = Dense(np.prod(volumeSize[1:]))(latentInputs)\n",
    "x = Reshape((volumeSize[1], volumeSize[2], volumeSize[3]))(x)\n",
    "\n",
    "#transpose conv for reverse \n",
    "x = Conv2DTranspose(64, (3, 3), strides=2,padding=\"same\")(x)\n",
    "x = LeakyReLU(alpha=0.2)(x)\n",
    "x = BatchNormalization(axis=chanDim)(x)\n",
    "x = Conv2DTranspose(32, (3, 3), strides=2,padding=\"same\")(x)\n",
    "x = LeakyReLU(alpha=0.2)(x)\n",
    "x = BatchNormalization(axis=chanDim)(x)\n",
    "#apply a single CONV_TRANSPOSE layer used to recover the original shape\n",
    "x = Conv2DTranspose(1, (3, 3), padding=\"same\")(x)\n",
    "outputs = Activation(\"sigmoid\")(x)\n",
    "# build the decoder model\n",
    "decoder = Model(latentInputs, outputs, name=\"decoder\")"
   ]
  },
  {
   "cell_type": "code",
   "execution_count": 35,
   "id": "3bc916a7",
   "metadata": {},
   "outputs": [],
   "source": [
    "# our autoencoder is the encoder + decoder\n",
    "autoencoder = Model(inputs, decoder(encoder(inputs)),name=\"autoencoder\")"
   ]
  },
  {
   "cell_type": "code",
   "execution_count": 36,
   "id": "f3514b94",
   "metadata": {},
   "outputs": [
    {
     "name": "stdout",
     "output_type": "stream",
     "text": [
      "Model: \"autoencoder\"\n",
      "_________________________________________________________________\n",
      " Layer (type)                Output Shape              Param #   \n",
      "=================================================================\n",
      " input_1 (InputLayer)        [(None, 28, 28, 1)]       0         \n",
      "                                                                 \n",
      " encoder (Functional)        (None, 16)                69392     \n",
      "                                                                 \n",
      " decoder (Functional)        (None, 28, 28, 1)         109377    \n",
      "                                                                 \n",
      "=================================================================\n",
      "Total params: 178,769\n",
      "Trainable params: 178,385\n",
      "Non-trainable params: 384\n",
      "_________________________________________________________________\n"
     ]
    }
   ],
   "source": [
    "autoencoder.summary()"
   ]
  },
  {
   "cell_type": "code",
   "execution_count": 37,
   "id": "bf864c78",
   "metadata": {},
   "outputs": [],
   "source": [
    "EPOCHS = 20\n",
    "INIT_LR = 1e-3\n",
    "BS = 32"
   ]
  },
  {
   "cell_type": "code",
   "execution_count": 38,
   "id": "c0c57b99",
   "metadata": {},
   "outputs": [],
   "source": [
    "opt = Adam(learning_rate=INIT_LR, decay=INIT_LR / EPOCHS)\n",
    "autoencoder.compile(loss=\"mse\", optimizer=opt)"
   ]
  },
  {
   "cell_type": "code",
   "execution_count": 39,
   "id": "b5c72b7c",
   "metadata": {},
   "outputs": [
    {
     "name": "stdout",
     "output_type": "stream",
     "text": [
      "Epoch 1/20\n",
      "171/171 [==============================] - 6s 13ms/step - loss: 0.0415 - val_loss: 0.0429\n",
      "Epoch 2/20\n",
      "171/171 [==============================] - 2s 10ms/step - loss: 0.0104 - val_loss: 0.0313\n",
      "Epoch 3/20\n",
      "171/171 [==============================] - 2s 9ms/step - loss: 0.0041 - val_loss: 0.0101\n",
      "Epoch 4/20\n",
      "171/171 [==============================] - 2s 9ms/step - loss: 0.0031 - val_loss: 0.0032\n",
      "Epoch 5/20\n",
      "171/171 [==============================] - 2s 10ms/step - loss: 0.0028 - val_loss: 0.0028\n",
      "Epoch 6/20\n",
      "171/171 [==============================] - 2s 10ms/step - loss: 0.0025 - val_loss: 0.0027\n",
      "Epoch 7/20\n",
      "171/171 [==============================] - 2s 10ms/step - loss: 0.0024 - val_loss: 0.0025\n",
      "Epoch 8/20\n",
      "171/171 [==============================] - 2s 10ms/step - loss: 0.0023 - val_loss: 0.0025\n",
      "Epoch 9/20\n",
      "171/171 [==============================] - 2s 10ms/step - loss: 0.0023 - val_loss: 0.0025\n",
      "Epoch 10/20\n",
      "171/171 [==============================] - 2s 10ms/step - loss: 0.0022 - val_loss: 0.0029\n",
      "Epoch 11/20\n",
      "171/171 [==============================] - 2s 10ms/step - loss: 0.0021 - val_loss: 0.0023\n",
      "Epoch 12/20\n",
      "171/171 [==============================] - 2s 10ms/step - loss: 0.0020 - val_loss: 0.0024\n",
      "Epoch 13/20\n",
      "171/171 [==============================] - 2s 10ms/step - loss: 0.0020 - val_loss: 0.0022\n",
      "Epoch 14/20\n",
      "171/171 [==============================] - 2s 10ms/step - loss: 0.0019 - val_loss: 0.0022\n",
      "Epoch 15/20\n",
      "171/171 [==============================] - 2s 10ms/step - loss: 0.0018 - val_loss: 0.0022\n",
      "Epoch 16/20\n",
      "171/171 [==============================] - 2s 10ms/step - loss: 0.0018 - val_loss: 0.0023\n",
      "Epoch 17/20\n",
      "171/171 [==============================] - 2s 10ms/step - loss: 0.0017 - val_loss: 0.0022\n",
      "Epoch 18/20\n",
      "171/171 [==============================] - 2s 10ms/step - loss: 0.0017 - val_loss: 0.0023\n",
      "Epoch 19/20\n",
      "171/171 [==============================] - 2s 10ms/step - loss: 0.0017 - val_loss: 0.0021\n",
      "Epoch 20/20\n",
      "171/171 [==============================] - 2s 10ms/step - loss: 0.0017 - val_loss: 0.0021\n"
     ]
    }
   ],
   "source": [
    "# train the convolutional autoencoder\n",
    "H = autoencoder.fit(trainX, trainX,validation_data=(testX, testX),epochs=EPOCHS,batch_size=BS)"
   ]
  },
  {
   "cell_type": "code",
   "execution_count": 40,
   "id": "50714998",
   "metadata": {},
   "outputs": [],
   "source": [
    "def visualize_predictions(decoded, gt, samples=10):\n",
    "    # initialize our list of output images\n",
    "    outputs = None\n",
    "\n",
    "    # loop over our number of output samples\n",
    "    for i in range(0, samples):\n",
    "        # grab the original image and reconstructed image\n",
    "        original = (gt[i] * 255).astype(\"uint8\")\n",
    "        recon = (decoded[i] * 255).astype(\"uint8\")\n",
    "\n",
    "        # stack the original and reconstructed image side-by-side\n",
    "        output = np.hstack([original, recon])\n",
    "\n",
    "        # if the outputs array is empty, initialize it as the current\n",
    "        # side-by-side image display\n",
    "        if outputs is None:\n",
    "            outputs = output\n",
    "\n",
    "        # otherwise, vertically stack the outputs\n",
    "        else:\n",
    "            outputs = np.vstack([outputs, output])\n",
    "\n",
    "    # return the output images\n",
    "    return outputs"
   ]
  },
  {
   "cell_type": "code",
   "execution_count": 41,
   "id": "1df48028",
   "metadata": {},
   "outputs": [
    {
     "name": "stdout",
     "output_type": "stream",
     "text": [
      "[INFO] making predictions...\n"
     ]
    },
    {
     "data": {
      "text/plain": [
       "True"
      ]
     },
     "execution_count": 41,
     "metadata": {},
     "output_type": "execute_result"
    }
   ],
   "source": [
    "print(\"[INFO] making predictions...\")\n",
    "decoded = autoencoder.predict(testX)\n",
    "vis = visualize_predictions(decoded, testX)\n",
    "cv2.imwrite('recon.png', vis)"
   ]
  },
  {
   "cell_type": "code",
   "execution_count": 42,
   "id": "0f5fb3e3",
   "metadata": {},
   "outputs": [
    {
     "data": {
      "image/png": "[encoded data removed]",
      "text/plain": [
       "<Figure size 432x288 with 1 Axes>"
      ]
     },
     "metadata": {
      "needs_background": "light"
     },
     "output_type": "display_data"
    }
   ],
   "source": [
    "# construct a plot that plots and saves the training history\n",
    "N = np.arange(0, EPOCHS)\n",
    "plt.style.use(\"ggplot\")\n",
    "plt.figure()\n",
    "plt.plot(N, H.history[\"loss\"], label=\"train_loss\")\n",
    "plt.plot(N, H.history[\"val_loss\"], label=\"val_loss\")\n",
    "plt.title(\"Training Loss\")\n",
    "plt.xlabel(\"Epoch #\")\n",
    "plt.ylabel(\"Loss\")\n",
    "plt.legend(loc=\"lower left\")\n",
    "plt.savefig('plot_training.png')"
   ]
  },
  {
   "cell_type": "code",
   "execution_count": 44,
   "id": "6f67c13f",
   "metadata": {},
   "outputs": [
    {
     "name": "stdout",
     "output_type": "stream",
     "text": [
      "[INFO] saving image data...\n"
     ]
    }
   ],
   "source": [
    "# serialize the image data to disk\n",
    "print(\"[INFO] saving image data...\")\n",
    "f = open('image_with_anomaly.pickle', \"wb\")\n",
    "f.write(pickle.dumps(images))\n",
    "f.close()"
   ]
  },
  {
   "cell_type": "code",
   "execution_count": 45,
   "id": "6b5d2c9d",
   "metadata": {},
   "outputs": [
    {
     "name": "stdout",
     "output_type": "stream",
     "text": [
      "[INFO] saving autoencoder...\n"
     ]
    }
   ],
   "source": [
    "# serialize the autoencoder model to disk\n",
    "print(\"[INFO] saving autoencoder...\")\n",
    "autoencoder.save('autoencoder.model', save_format=\"h5\")"
   ]
  },
  {
   "attachments": {
    "image.png": {
     "image/png": "[encoded data removed]"
    }
   },
   "cell_type": "markdown",
   "id": "b7b287f8",
   "metadata": {},
   "source": [
    "We saved our model and images, now we can try our model to find anomalies in dataset\n",
    "\n",
    "![image.png](attachment:image.png)"
   ]
  },
  {
   "cell_type": "code",
   "execution_count": 46,
   "id": "4f115050",
   "metadata": {},
   "outputs": [],
   "source": [
    "from tensorflow.keras.models import load_model"
   ]
  },
  {
   "cell_type": "code",
   "execution_count": 47,
   "id": "730eb11b",
   "metadata": {},
   "outputs": [
    {
     "name": "stdout",
     "output_type": "stream",
     "text": [
      "[INFO] loading autoencoder and image data...\n"
     ]
    }
   ],
   "source": [
    "print(\"[INFO] loading autoencoder and image data...\")\n",
    "autoencoder = load_model('autoencoder.model')\n",
    "images = pickle.loads(open('image_with_anomaly.pickle', \"rb\").read())"
   ]
  },
  {
   "cell_type": "code",
   "execution_count": 48,
   "id": "9c179687",
   "metadata": {},
   "outputs": [],
   "source": [
    "decoded = autoencoder.predict(images)\n",
    "errors = []"
   ]
  },
  {
   "cell_type": "code",
   "execution_count": 49,
   "id": "79ba5494",
   "metadata": {},
   "outputs": [
    {
     "data": {
      "text/plain": [
       "(6809, 28, 28, 1)"
      ]
     },
     "execution_count": 49,
     "metadata": {},
     "output_type": "execute_result"
    }
   ],
   "source": [
    "decoded.shape"
   ]
  },
  {
   "cell_type": "code",
   "execution_count": 50,
   "id": "209a246a",
   "metadata": {},
   "outputs": [],
   "source": [
    "# we need to calculate MSE values for all images in dataset with its reconstruction\n",
    "\n",
    "for (image, recon) in zip(images, decoded):\n",
    "    # compute the mean squared error between the ground-truth image\n",
    "    # and the reconstructed image, then add it to our list of errors\n",
    "    mse = np.mean((image - recon) ** 2)\n",
    "    errors.append(mse)"
   ]
  },
  {
   "cell_type": "markdown",
   "id": "a1a23b59",
   "metadata": {},
   "source": [
    "any data point that our model reconstructed with > threshold error will be marked as an outlier"
   ]
  },
  {
   "cell_type": "code",
   "execution_count": 51,
   "id": "3030ecc5",
   "metadata": {},
   "outputs": [],
   "source": [
    "thresh = np.quantile(errors, 0.999)"
   ]
  },
  {
   "cell_type": "code",
   "execution_count": 52,
   "id": "6966594d",
   "metadata": {},
   "outputs": [
    {
     "data": {
      "text/plain": [
       "0.0256554081141949"
      ]
     },
     "execution_count": 52,
     "metadata": {},
     "output_type": "execute_result"
    }
   ],
   "source": [
    "thresh"
   ]
  },
  {
   "cell_type": "code",
   "execution_count": 53,
   "id": "812a7255",
   "metadata": {},
   "outputs": [],
   "source": [
    "idxs = np.where(np.array(errors) >= thresh)[0]"
   ]
  },
  {
   "cell_type": "code",
   "execution_count": 54,
   "id": "8517d1e8",
   "metadata": {},
   "outputs": [
    {
     "data": {
      "text/plain": [
       "array([ 290, 1215, 1420, 2132, 4575, 4925, 6011], dtype=int64)"
      ]
     },
     "execution_count": 54,
     "metadata": {},
     "output_type": "execute_result"
    }
   ],
   "source": [
    "idxs"
   ]
  },
  {
   "cell_type": "code",
   "execution_count": 55,
   "id": "11389d82",
   "metadata": {},
   "outputs": [
    {
     "name": "stdout",
     "output_type": "stream",
     "text": [
      "[INFO] mse threshold: 0.0256554081141949\n",
      "[INFO] 7 outliers found\n"
     ]
    }
   ],
   "source": [
    "print(\"[INFO] mse threshold: {}\".format(thresh))\n",
    "print(\"[INFO] {} outliers found\".format(len(idxs)))"
   ]
  },
  {
   "cell_type": "markdown",
   "id": "c4c369d6",
   "metadata": {},
   "source": [
    " We found 7 outliers in our dataset.. Real number is 67, so our model is not very good about it.\n",
    " \n",
    "  Lets see what these outliers are"
   ]
  },
  {
   "cell_type": "code",
   "execution_count": 56,
   "id": "8626afed",
   "metadata": {},
   "outputs": [],
   "source": [
    "outputs = None\n",
    "\n",
    "# loop over the indexes of images with a high mean squared error term\n",
    "for i in idxs:\n",
    "    # grab the original image and reconstructed image\n",
    "    original = (images[i] * 255).astype(\"uint8\")\n",
    "    recon = (decoded[i] * 255).astype(\"uint8\")\n",
    "\n",
    "    # stack the original and reconstructed image side-by-side\n",
    "    output = np.hstack([original, recon])\n",
    "\n",
    "    # if the outputs array is empty, initialize it as the current\n",
    "    # side-by-side image display\n",
    "    if outputs is None:\n",
    "        outputs = output\n",
    "\n",
    "    # otherwise, vertically stack the outputs\n",
    "    else:\n",
    "        outputs = np.vstack([outputs, output])"
   ]
  },
  {
   "cell_type": "code",
   "execution_count": 57,
   "id": "cda161e7",
   "metadata": {},
   "outputs": [
    {
     "data": {
      "text/plain": [
       "-1"
      ]
     },
     "execution_count": 57,
     "metadata": {},
     "output_type": "execute_result"
    }
   ],
   "source": [
    "# show the output visualization\n",
    "cv2.imshow(\"Output\", outputs)\n",
    "cv2.waitKey(0)"
   ]
  },
  {
   "attachments": {
    "image.png": {
     "image/png": "[encoded data removed]"
    }
   },
   "cell_type": "markdown",
   "id": "9a03aa6f",
   "metadata": {},
   "source": [
    "![image.png](attachment:image.png)"
   ]
  },
  {
   "cell_type": "code",
   "execution_count": 58,
   "id": "0ec03116",
   "metadata": {},
   "outputs": [
    {
     "data": {
      "text/plain": [
       "True"
      ]
     },
     "execution_count": 58,
     "metadata": {},
     "output_type": "execute_result"
    }
   ],
   "source": [
    "cv2.imwrite(\"Output.png\", outputs)"
   ]
  },
  {
   "cell_type": "markdown",
   "id": "0cba0bc2",
   "metadata": {},
   "source": [
    "FOR MORE : https://towardsdatascience.com/a-keras-based-autoencoder-for-anomaly-detection-in-sequences-75337eaed0e5\n",
    "\n"
   ]
  }
 ],
 "metadata": {
  "kernelspec": {
   "display_name": "Python 3 (ipykernel)",
   "language": "python",
   "name": "python3"
  },
  "language_info": {
   "codemirror_mode": {
    "name": "ipython",
    "version": 3
   },
   "file_extension": ".py",
   "mimetype": "text/x-python",
   "name": "python",
   "nbconvert_exporter": "python",
   "pygments_lexer": "ipython3",
   "version": "3.8.13"
  }
 },
 "nbformat": 4,
 "nbformat_minor": 5
}
